{
 "cells": [
  {
   "cell_type": "markdown",
   "id": "6ac7a0d5",
   "metadata": {},
   "source": [
    "Importing Libraries"
   ]
  },
  {
   "cell_type": "code",
   "execution_count": 1,
   "id": "feb72b9d",
   "metadata": {},
   "outputs": [],
   "source": [
    "import pandas as pd\n",
    "import numpy as np\n",
    "import seaborn as sns\n",
    "import matplotlib\n",
    "import matplotlib.pyplot as plt\n",
    "import os\n",
    "import sklearn\n",
    "from sklearn.model_selection import train_test_split \n",
    "from sklearn.linear_model import LinearRegression\n",
    "from sklearn.metrics import mean_squared_error, r2_score"
   ]
  },
  {
   "cell_type": "markdown",
   "id": "545c2ea3",
   "metadata": {},
   "source": [
    "Importing Datasets"
   ]
  },
  {
   "cell_type": "code",
   "execution_count": 2,
   "id": "c1087f01",
   "metadata": {},
   "outputs": [],
   "source": [
    "path=r'/Users/charlesrhodes/Documents'"
   ]
  },
  {
   "cell_type": "code",
   "execution_count": 3,
   "id": "63c885d0",
   "metadata": {},
   "outputs": [],
   "source": [
    "df_original = pd.read_pickle(os.path.join(path,'df_original.pkl'))"
   ]
  },
  {
   "cell_type": "code",
   "execution_count": 4,
   "id": "b29debe1",
   "metadata": {},
   "outputs": [],
   "source": [
    "df = pd.read_pickle(os.path.join(path,'df_62.pkl'))"
   ]
  },
  {
   "cell_type": "code",
   "execution_count": 5,
   "id": "a99b19c3",
   "metadata": {},
   "outputs": [],
   "source": [
    "df_2021 = df_original.drop([34, 58, 76, 86, 104, 110, 130, 137, 170, 173, 180, 182, 188, 202, 207])"
   ]
  },
  {
   "cell_type": "code",
   "execution_count": 6,
   "id": "28b63d83",
   "metadata": {},
   "outputs": [
    {
     "data": {
      "text/html": [
       "<div>\n",
       "<style scoped>\n",
       "    .dataframe tbody tr th:only-of-type {\n",
       "        vertical-align: middle;\n",
       "    }\n",
       "\n",
       "    .dataframe tbody tr th {\n",
       "        vertical-align: top;\n",
       "    }\n",
       "\n",
       "    .dataframe thead th {\n",
       "        text-align: right;\n",
       "    }\n",
       "</style>\n",
       "<table border=\"1\" class=\"dataframe\">\n",
       "  <thead>\n",
       "    <tr style=\"text-align: right;\">\n",
       "      <th></th>\n",
       "      <th>country_name</th>\n",
       "      <th>country_code</th>\n",
       "      <th>region</th>\n",
       "      <th>income_group</th>\n",
       "      <th>income_group_num</th>\n",
       "      <th>num_of_years</th>\n",
       "      <th>1972</th>\n",
       "      <th>1973</th>\n",
       "      <th>1974</th>\n",
       "      <th>1975</th>\n",
       "      <th>...</th>\n",
       "      <th>2012</th>\n",
       "      <th>2013</th>\n",
       "      <th>2014</th>\n",
       "      <th>2015</th>\n",
       "      <th>2016</th>\n",
       "      <th>2017</th>\n",
       "      <th>2018</th>\n",
       "      <th>2019</th>\n",
       "      <th>2020</th>\n",
       "      <th>2021</th>\n",
       "    </tr>\n",
       "  </thead>\n",
       "  <tbody>\n",
       "    <tr>\n",
       "      <th>0</th>\n",
       "      <td>Aruba</td>\n",
       "      <td>ABW</td>\n",
       "      <td>Latin America &amp; Caribbean</td>\n",
       "      <td>High income</td>\n",
       "      <td>4</td>\n",
       "      <td>35</td>\n",
       "      <td></td>\n",
       "      <td></td>\n",
       "      <td></td>\n",
       "      <td></td>\n",
       "      <td>...</td>\n",
       "      <td>-1.833977</td>\n",
       "      <td>5.635318</td>\n",
       "      <td>-0.709567</td>\n",
       "      <td>2.885166</td>\n",
       "      <td>1.515938</td>\n",
       "      <td>4.917139</td>\n",
       "      <td>4.738331</td>\n",
       "      <td>0.181216</td>\n",
       "      <td>-18.698325</td>\n",
       "      <td>17.2253</td>\n",
       "    </tr>\n",
       "    <tr>\n",
       "      <th>1</th>\n",
       "      <td>Afghanistan</td>\n",
       "      <td>AFG</td>\n",
       "      <td>South Asia</td>\n",
       "      <td>Low income</td>\n",
       "      <td>1</td>\n",
       "      <td>19</td>\n",
       "      <td></td>\n",
       "      <td></td>\n",
       "      <td></td>\n",
       "      <td></td>\n",
       "      <td>...</td>\n",
       "      <td>8.247144</td>\n",
       "      <td>2.002522</td>\n",
       "      <td>-0.964803</td>\n",
       "      <td>-1.666416</td>\n",
       "      <td>-0.345802</td>\n",
       "      <td>-0.253594</td>\n",
       "      <td>-1.688577</td>\n",
       "      <td>0.932833</td>\n",
       "      <td>-5.364666</td>\n",
       "      <td>-22.965296</td>\n",
       "    </tr>\n",
       "    <tr>\n",
       "      <th>2</th>\n",
       "      <td>Angola</td>\n",
       "      <td>AGO</td>\n",
       "      <td>Sub-Saharan Africa</td>\n",
       "      <td>Lower middle income</td>\n",
       "      <td>2</td>\n",
       "      <td>41</td>\n",
       "      <td></td>\n",
       "      <td></td>\n",
       "      <td></td>\n",
       "      <td></td>\n",
       "      <td>...</td>\n",
       "      <td>4.536024</td>\n",
       "      <td>1.101887</td>\n",
       "      <td>1.028262</td>\n",
       "      <td>-2.64642</td>\n",
       "      <td>-6.011783</td>\n",
       "      <td>-3.633446</td>\n",
       "      <td>-4.676622</td>\n",
       "      <td>-4.014917</td>\n",
       "      <td>-8.635446</td>\n",
       "      <td>-2.050717</td>\n",
       "    </tr>\n",
       "    <tr>\n",
       "      <th>3</th>\n",
       "      <td>Albania</td>\n",
       "      <td>ALB</td>\n",
       "      <td>Europe &amp; Central Asia</td>\n",
       "      <td>Upper middle income</td>\n",
       "      <td>3</td>\n",
       "      <td>41</td>\n",
       "      <td></td>\n",
       "      <td></td>\n",
       "      <td></td>\n",
       "      <td></td>\n",
       "      <td>...</td>\n",
       "      <td>1.584873</td>\n",
       "      <td>1.187234</td>\n",
       "      <td>1.985388</td>\n",
       "      <td>2.516827</td>\n",
       "      <td>3.480293</td>\n",
       "      <td>3.897741</td>\n",
       "      <td>4.276326</td>\n",
       "      <td>2.523894</td>\n",
       "      <td>-2.925821</td>\n",
       "      <td>9.526027</td>\n",
       "    </tr>\n",
       "    <tr>\n",
       "      <th>4</th>\n",
       "      <td>Andorra</td>\n",
       "      <td>AND</td>\n",
       "      <td>Europe &amp; Central Asia</td>\n",
       "      <td>High income</td>\n",
       "      <td>4</td>\n",
       "      <td>50</td>\n",
       "      <td>0.997233</td>\n",
       "      <td>0.890677</td>\n",
       "      <td>-0.920696</td>\n",
       "      <td>-5.412483</td>\n",
       "      <td>...</td>\n",
       "      <td>-5.571256</td>\n",
       "      <td>-4.026027</td>\n",
       "      <td>2.140939</td>\n",
       "      <td>1.257416</td>\n",
       "      <td>2.574505</td>\n",
       "      <td>-1.416579</td>\n",
       "      <td>-0.00387</td>\n",
       "      <td>0.238297</td>\n",
       "      <td>-12.735078</td>\n",
       "      <td>7.110481</td>\n",
       "    </tr>\n",
       "  </tbody>\n",
       "</table>\n",
       "<p>5 rows × 56 columns</p>\n",
       "</div>"
      ],
      "text/plain": [
       "  country_name country_code                     region         income_group  \\\n",
       "0        Aruba          ABW  Latin America & Caribbean          High income   \n",
       "1  Afghanistan          AFG                 South Asia           Low income   \n",
       "2       Angola          AGO         Sub-Saharan Africa  Lower middle income   \n",
       "3      Albania          ALB      Europe & Central Asia  Upper middle income   \n",
       "4      Andorra          AND      Europe & Central Asia          High income   \n",
       "\n",
       "   income_group_num  num_of_years      1972      1973      1974      1975  \\\n",
       "0                 4            35                                           \n",
       "1                 1            19                                           \n",
       "2                 2            41                                           \n",
       "3                 3            41                                           \n",
       "4                 4            50  0.997233  0.890677 -0.920696 -5.412483   \n",
       "\n",
       "   ...      2012      2013      2014      2015      2016      2017      2018  \\\n",
       "0  ... -1.833977  5.635318 -0.709567  2.885166  1.515938  4.917139  4.738331   \n",
       "1  ...  8.247144  2.002522 -0.964803 -1.666416 -0.345802 -0.253594 -1.688577   \n",
       "2  ...  4.536024  1.101887  1.028262  -2.64642 -6.011783 -3.633446 -4.676622   \n",
       "3  ...  1.584873  1.187234  1.985388  2.516827  3.480293  3.897741  4.276326   \n",
       "4  ... -5.571256 -4.026027  2.140939  1.257416  2.574505 -1.416579  -0.00387   \n",
       "\n",
       "       2019       2020       2021  \n",
       "0  0.181216 -18.698325    17.2253  \n",
       "1  0.932833  -5.364666 -22.965296  \n",
       "2 -4.014917  -8.635446  -2.050717  \n",
       "3  2.523894  -2.925821   9.526027  \n",
       "4  0.238297 -12.735078   7.110481  \n",
       "\n",
       "[5 rows x 56 columns]"
      ]
     },
     "execution_count": 6,
     "metadata": {},
     "output_type": "execute_result"
    }
   ],
   "source": [
    "df_2021.head()"
   ]
  },
  {
   "cell_type": "code",
   "execution_count": 7,
   "id": "244203b6",
   "metadata": {},
   "outputs": [
    {
     "data": {
      "text/plain": [
       "(196, 56)"
      ]
     },
     "execution_count": 7,
     "metadata": {},
     "output_type": "execute_result"
    }
   ],
   "source": [
    "df_2021.shape"
   ]
  },
  {
   "cell_type": "markdown",
   "id": "0161ec18",
   "metadata": {},
   "source": [
    "Exploring Variables via Scatterplot"
   ]
  },
  {
   "cell_type": "code",
   "execution_count": 10,
   "id": "93724820",
   "metadata": {
    "scrolled": true
   },
   "outputs": [
    {
     "name": "stderr",
     "output_type": "stream",
     "text": [
      "/Users/charlesrhodes/opt/anaconda3/lib/python3.9/site-packages/seaborn/distributions.py:2619: FutureWarning: `distplot` is a deprecated function and will be removed in a future version. Please adapt your code to use either `displot` (a figure-level function with similar flexibility) or `histplot` (an axes-level function for histograms).\n",
      "  warnings.warn(msg, FutureWarning)\n"
     ]
    },
    {
     "data": {
      "text/plain": [
       "<AxesSubplot:xlabel='income_group_num', ylabel='Density'>"
      ]
     },
     "execution_count": 10,
     "metadata": {},
     "output_type": "execute_result"
    },
    {
     "data": {
      "image/png": "[encoded data removed]",
      "text/plain": [
       "<Figure size 432x288 with 1 Axes>"
      ]
     },
     "metadata": {
      "needs_background": "light"
     },
     "output_type": "display_data"
    }
   ],
   "source": [
    "sns.distplot(df['income_group_num'],bins = 7, kde = True)"
   ]
  },
  {
   "cell_type": "code",
   "execution_count": 15,
   "id": "6b787be9",
   "metadata": {},
   "outputs": [
    {
     "name": "stderr",
     "output_type": "stream",
     "text": [
      "/Users/charlesrhodes/opt/anaconda3/lib/python3.9/site-packages/seaborn/distributions.py:2619: FutureWarning: `distplot` is a deprecated function and will be removed in a future version. Please adapt your code to use either `displot` (a figure-level function with similar flexibility) or `histplot` (an axes-level function for histograms).\n",
      "  warnings.warn(msg, FutureWarning)\n"
     ]
    },
    {
     "data": {
      "text/plain": [
       "<AxesSubplot:xlabel='2021', ylabel='Density'>"
      ]
     },
     "execution_count": 15,
     "metadata": {},
     "output_type": "execute_result"
    },
    {
     "data": {
      "image/png": "[encoded data removed]",
      "text/plain": [
       "<Figure size 432x288 with 1 Axes>"
      ]
     },
     "metadata": {
      "needs_background": "light"
     },
     "output_type": "display_data"
    }
   ],
   "source": [
    "sns.distplot(df['2021'],bins = 50, kde = True)"
   ]
  },
  {
   "cell_type": "code",
   "execution_count": 11,
   "id": "f20b6f0e",
   "metadata": {},
   "outputs": [
    {
     "data": {
      "text/plain": [
       "4.144236939260344"
      ]
     },
     "execution_count": 11,
     "metadata": {},
     "output_type": "execute_result"
    }
   ],
   "source": [
    "#Checking the mean for the GDP growth rate % in 2021\n",
    "df_2021['2021'].mean()"
   ]
  },
  {
   "cell_type": "code",
   "execution_count": 12,
   "id": "15f4137a",
   "metadata": {},
   "outputs": [
    {
     "data": {
      "text/plain": [
       "3.64958485547121"
      ]
     },
     "execution_count": 12,
     "metadata": {},
     "output_type": "execute_result"
    }
   ],
   "source": [
    "#Checking the median for the GDP growth rate % in 2021\n",
    "df_2021['2021'].median()"
   ]
  },
  {
   "cell_type": "code",
   "execution_count": 13,
   "id": "c978865e",
   "metadata": {},
   "outputs": [
    {
     "data": {
      "text/plain": [
       "39.8371601779231"
      ]
     },
     "execution_count": 13,
     "metadata": {},
     "output_type": "execute_result"
    }
   ],
   "source": [
    "#Checking the maximum for the GDP growth rate % in 2021\n",
    "df_2021['2021'].max()"
   ]
  },
  {
   "cell_type": "code",
   "execution_count": 14,
   "id": "eb493e08",
   "metadata": {},
   "outputs": [
    {
     "data": {
      "text/plain": [
       "-22.965295860551"
      ]
     },
     "execution_count": 14,
     "metadata": {},
     "output_type": "execute_result"
    }
   ],
   "source": [
    "#Checking the miniimum for the GDP growth rate % in 2021\n",
    "df_2021['2021'].min()"
   ]
  },
  {
   "cell_type": "markdown",
   "id": "71efc8d5",
   "metadata": {},
   "source": [
    "Hypothesis: If a country is a higher income, then it is more likely to have GDP growth."
   ]
  },
  {
   "cell_type": "markdown",
   "id": "394c67c3",
   "metadata": {},
   "source": [
    "Data Prep:"
   ]
  },
  {
   "cell_type": "code",
   "execution_count": 24,
   "id": "8c270aca",
   "metadata": {},
   "outputs": [],
   "source": [
    "X = df['income_group_num'].values.reshape(-1,1)\n",
    "y = df['2021'].values.reshape(-1,1)"
   ]
  },
  {
   "cell_type": "code",
   "execution_count": 27,
   "id": "6cda3c95",
   "metadata": {},
   "outputs": [
    {
     "data": {
      "text/plain": [
       "array([[4],\n",
       "       [3],\n",
       "       [4],\n",
       "       [4],\n",
       "       [1],\n",
       "       [4],\n",
       "       [2],\n",
       "       [1],\n",
       "       [2],\n",
       "       [4],\n",
       "       [3],\n",
       "       [4],\n",
       "       [2],\n",
       "       [3],\n",
       "       [3],\n",
       "       [1],\n",
       "       [4],\n",
       "       [3],\n",
       "       [2],\n",
       "       [2],\n",
       "       [1],\n",
       "       [2],\n",
       "       [3],\n",
       "       [3],\n",
       "       [3],\n",
       "       [4],\n",
       "       [4],\n",
       "       [3],\n",
       "       [2],\n",
       "       [3],\n",
       "       [2],\n",
       "       [4],\n",
       "       [4],\n",
       "       [3],\n",
       "       [4],\n",
       "       [3],\n",
       "       [4],\n",
       "       [3],\n",
       "       [2],\n",
       "       [1],\n",
       "       [1],\n",
       "       [4],\n",
       "       [3],\n",
       "       [3],\n",
       "       [4],\n",
       "       [2],\n",
       "       [2],\n",
       "       [2],\n",
       "       [2],\n",
       "       [4],\n",
       "       [2],\n",
       "       [3],\n",
       "       [4],\n",
       "       [3],\n",
       "       [4],\n",
       "       [2],\n",
       "       [2],\n",
       "       [4],\n",
       "       [2],\n",
       "       [2],\n",
       "       [4],\n",
       "       [2],\n",
       "       [4],\n",
       "       [1],\n",
       "       [3],\n",
       "       [1],\n",
       "       [4],\n",
       "       [2],\n",
       "       [2],\n",
       "       [1],\n",
       "       [3],\n",
       "       [1],\n",
       "       [2],\n",
       "       [2],\n",
       "       [4],\n",
       "       [4],\n",
       "       [2],\n",
       "       [4],\n",
       "       [2],\n",
       "       [4],\n",
       "       [3],\n",
       "       [2],\n",
       "       [2],\n",
       "       [4],\n",
       "       [4],\n",
       "       [3],\n",
       "       [4],\n",
       "       [1],\n",
       "       [4],\n",
       "       [1],\n",
       "       [2],\n",
       "       [4],\n",
       "       [1],\n",
       "       [2],\n",
       "       [3],\n",
       "       [4],\n",
       "       [2],\n",
       "       [4],\n",
       "       [1],\n",
       "       [1],\n",
       "       [3],\n",
       "       [4],\n",
       "       [2],\n",
       "       [3],\n",
       "       [4],\n",
       "       [4],\n",
       "       [3],\n",
       "       [3],\n",
       "       [1],\n",
       "       [2]], dtype=int8)"
      ]
     },
     "execution_count": 27,
     "metadata": {},
     "output_type": "execute_result"
    }
   ],
   "source": [
    "X"
   ]
  },
  {
   "cell_type": "code",
   "execution_count": 29,
   "id": "0d379dd1",
   "metadata": {},
   "outputs": [
    {
     "data": {
      "text/plain": [
       "array([[  7.1104813 ],\n",
       "       [  9.357176  ],\n",
       "       [  2.1057112 ],\n",
       "       [  4.1023173 ],\n",
       "       [ -0.8891273 ],\n",
       "       [  5.636308  ],\n",
       "       [  4.2389793 ],\n",
       "       [  4.1101403 ],\n",
       "       [  5.7166452 ],\n",
       "       [ 13.319673  ],\n",
       "       [ 13.7542305 ],\n",
       "       [  5.456447  ],\n",
       "       [  4.8469725 ],\n",
       "       [  4.0678725 ],\n",
       "       [  9.562017  ],\n",
       "       [ -1.2102796 ],\n",
       "       [ 10.563359  ],\n",
       "       [  8.013346  ],\n",
       "       [  4.4418554 ],\n",
       "       [  0.9535836 ],\n",
       "       [  2.8323793 ],\n",
       "       [ -4.4394894 ],\n",
       "       [  9.418279  ],\n",
       "       [  6.9355855 ],\n",
       "       [  1.6528171 ],\n",
       "       [  2.5835574 ],\n",
       "       [  4.402231  ],\n",
       "       [ 11.078277  ],\n",
       "       [  1.7984197 ],\n",
       "       [  3.0103781 ],\n",
       "       [  1.6273187 ],\n",
       "       [  5.408113  ],\n",
       "       [  2.7599986 ],\n",
       "       [ -5.5414023 ],\n",
       "       [  6.53512   ],\n",
       "       [ -0.6442059 ],\n",
       "       [  7.1327205 ],\n",
       "       [ 10.885702  ],\n",
       "       [  3.2622821 ],\n",
       "       [  1.661892  ],\n",
       "       [  1.5387096 ],\n",
       "       [  9.01911   ],\n",
       "       [  6.394085  ],\n",
       "       [ 18.960983  ],\n",
       "       [  7.3171515 ],\n",
       "       [ 10.819733  ],\n",
       "       [ -3.0058033 ],\n",
       "       [  2.973375  ],\n",
       "       [  7.8182487 ],\n",
       "       [ 12.509883  ],\n",
       "       [  3.9655688 ],\n",
       "       [  0.47755218],\n",
       "       [  7.3316994 ],\n",
       "       [  4.3314805 ],\n",
       "       [  2.1257222 ],\n",
       "       [  5.4487095 ],\n",
       "       [ -0.39888293],\n",
       "       [  4.3292074 ],\n",
       "       [  2.2214901 ],\n",
       "       [  0.13249329],\n",
       "       [  3.518687  ],\n",
       "       [  6.7903776 ],\n",
       "       [ 22.335512  ],\n",
       "       [  1.9093196 ],\n",
       "       [  4.136372  ],\n",
       "       [ -0.15090208],\n",
       "       [  9.6162405 ],\n",
       "       [-18.484959  ],\n",
       "       [ -0.13786784],\n",
       "       [  0.10288034],\n",
       "       [  1.9441181 ],\n",
       "       [ -2.3028963 ],\n",
       "       [  1.1828282 ],\n",
       "       [  8.819857  ],\n",
       "       [  4.3157043 ],\n",
       "       [  3.3268924 ],\n",
       "       [  1.8646806 ],\n",
       "       [  3.6151645 ],\n",
       "       [  4.5518484 ],\n",
       "       [ 13.828436  ],\n",
       "       [ 11.968708  ],\n",
       "       [  4.135109  ],\n",
       "       [ -1.714148  ],\n",
       "       [  0.7587054 ],\n",
       "       [  5.1956677 ],\n",
       "       [  2.7808447 ],\n",
       "       [  0.32247674],\n",
       "       [  8.285556  ],\n",
       "       [  3.3750725 ],\n",
       "       [ -4.4836197 ],\n",
       "       [  3.2954736 ],\n",
       "       [ 12.196721  ],\n",
       "       [  1.7968795 ],\n",
       "       [  9.904091  ],\n",
       "       [ -3.669023  ],\n",
       "       [  4.445904  ],\n",
       "       [  6.8322263 ],\n",
       "       [  6.9968834 ],\n",
       "       [ -4.276979  ],\n",
       "       [  2.7979841 ],\n",
       "       [  1.355957  ],\n",
       "       [ -1.5141213 ],\n",
       "       [  3.4616566 ],\n",
       "       [ 10.51288   ],\n",
       "       [  4.4530916 ],\n",
       "       [  5.8201404 ],\n",
       "       [  1.6435457 ],\n",
       "       [  3.8703153 ],\n",
       "       [  1.6690966 ],\n",
       "       [  6.271613  ]], dtype=float32)"
      ]
     },
     "execution_count": 29,
     "metadata": {},
     "output_type": "execute_result"
    }
   ],
   "source": [
    "y"
   ]
  },
  {
   "cell_type": "code",
   "execution_count": 30,
   "id": "5b19d619",
   "metadata": {},
   "outputs": [],
   "source": [
    "# Create the testing and training split to test and train the variables\n",
    "X_train,X_test,y_train,y_test = train_test_split(X,y,test_size = 0.3,random_state = 0)"
   ]
  },
  {
   "cell_type": "markdown",
   "id": "649c852b",
   "metadata": {},
   "source": [
    "Running Regressions"
   ]
  },
  {
   "cell_type": "code",
   "execution_count": 31,
   "id": "e05c11da",
   "metadata": {},
   "outputs": [],
   "source": [
    "regression = LinearRegression()"
   ]
  },
  {
   "cell_type": "code",
   "execution_count": 32,
   "id": "9510d9a8",
   "metadata": {},
   "outputs": [
    {
     "data": {
      "text/plain": [
       "LinearRegression()"
      ]
     },
     "execution_count": 32,
     "metadata": {},
     "output_type": "execute_result"
    }
   ],
   "source": [
    "# Train the regression\n",
    "regression.fit(X_train, y_train)"
   ]
  },
  {
   "cell_type": "code",
   "execution_count": 41,
   "id": "6e606e22",
   "metadata": {},
   "outputs": [],
   "source": [
    "y_predicted = regression.predict(X_test)"
   ]
  },
  {
   "cell_type": "code",
   "execution_count": 49,
   "id": "0ed587f8",
   "metadata": {},
   "outputs": [
    {
     "data": {
      "image/png": "[encoded data removed]",
      "text/plain": [
       "<Figure size 432x288 with 1 Axes>"
      ]
     },
     "metadata": {
      "needs_background": "light"
     },
     "output_type": "display_data"
    }
   ],
   "source": [
    "plot_test = plt\n",
    "plot_test.scatter(X_test, y_test, color='gray', s = 15)\n",
    "plot_test.plot(X_test, y_predicted, color='red', linewidth =3)\n",
    "plot_test.title('GDP Growth Rate by Income Groups (Test set)')\n",
    "plot_test.xlabel('Income Group Number')\n",
    "plot_test.ylabel('GDP Growth % in 2021')\n",
    "plot_test.show()"
   ]
  },
  {
   "cell_type": "code",
   "execution_count": 54,
   "id": "4e5bdece",
   "metadata": {},
   "outputs": [],
   "source": [
    "#From a glance it appears the line is a poor fit for the data."
   ]
  },
  {
   "cell_type": "code",
   "execution_count": 55,
   "id": "79e278ac",
   "metadata": {},
   "outputs": [
    {
     "name": "stdout",
     "output_type": "stream",
     "text": [
      "23.59797575704124\n",
      "-0.21944156118951308\n"
     ]
    }
   ],
   "source": [
    "# Checking the MSE and r-squared scores\n",
    "mse = mean_squared_error(y_test, y_predicted)\n",
    "r2 = r2_score(y_test, y_predicted)\n",
    "print(mse)\n",
    "print(r2)"
   ]
  },
  {
   "cell_type": "code",
   "execution_count": 56,
   "id": "dfd9a6fb",
   "metadata": {},
   "outputs": [],
   "source": [
    "#It it clear that this linear regression is a terrible fit for the data with a negative r-squared score."
   ]
  },
  {
   "cell_type": "code",
   "execution_count": 57,
   "id": "c740c2b1",
   "metadata": {},
   "outputs": [
    {
     "data": {
      "text/html": [
       "<div>\n",
       "<style scoped>\n",
       "    .dataframe tbody tr th:only-of-type {\n",
       "        vertical-align: middle;\n",
       "    }\n",
       "\n",
       "    .dataframe tbody tr th {\n",
       "        vertical-align: top;\n",
       "    }\n",
       "\n",
       "    .dataframe thead th {\n",
       "        text-align: right;\n",
       "    }\n",
       "</style>\n",
       "<table border=\"1\" class=\"dataframe\">\n",
       "  <thead>\n",
       "    <tr style=\"text-align: right;\">\n",
       "      <th></th>\n",
       "      <th>Actual</th>\n",
       "      <th>Predicted</th>\n",
       "    </tr>\n",
       "  </thead>\n",
       "  <tbody>\n",
       "    <tr>\n",
       "      <th>0</th>\n",
       "      <td>2.780845</td>\n",
       "      <td>5.073614</td>\n",
       "    </tr>\n",
       "    <tr>\n",
       "      <th>1</th>\n",
       "      <td>13.754230</td>\n",
       "      <td>5.073614</td>\n",
       "    </tr>\n",
       "    <tr>\n",
       "      <th>2</th>\n",
       "      <td>3.326892</td>\n",
       "      <td>7.411884</td>\n",
       "    </tr>\n",
       "    <tr>\n",
       "      <th>3</th>\n",
       "      <td>2.105711</td>\n",
       "      <td>7.411884</td>\n",
       "    </tr>\n",
       "    <tr>\n",
       "      <th>4</th>\n",
       "      <td>1.652817</td>\n",
       "      <td>5.073614</td>\n",
       "    </tr>\n",
       "    <tr>\n",
       "      <th>5</th>\n",
       "      <td>-1.514121</td>\n",
       "      <td>7.411884</td>\n",
       "    </tr>\n",
       "    <tr>\n",
       "      <th>6</th>\n",
       "      <td>6.271613</td>\n",
       "      <td>2.735344</td>\n",
       "    </tr>\n",
       "    <tr>\n",
       "      <th>7</th>\n",
       "      <td>4.110140</td>\n",
       "      <td>0.397074</td>\n",
       "    </tr>\n",
       "    <tr>\n",
       "      <th>8</th>\n",
       "      <td>10.563359</td>\n",
       "      <td>7.411884</td>\n",
       "    </tr>\n",
       "    <tr>\n",
       "      <th>9</th>\n",
       "      <td>12.196721</td>\n",
       "      <td>7.411884</td>\n",
       "    </tr>\n",
       "    <tr>\n",
       "      <th>10</th>\n",
       "      <td>-0.137868</td>\n",
       "      <td>2.735344</td>\n",
       "    </tr>\n",
       "    <tr>\n",
       "      <th>11</th>\n",
       "      <td>9.418279</td>\n",
       "      <td>5.073614</td>\n",
       "    </tr>\n",
       "    <tr>\n",
       "      <th>12</th>\n",
       "      <td>10.819733</td>\n",
       "      <td>2.735344</td>\n",
       "    </tr>\n",
       "    <tr>\n",
       "      <th>13</th>\n",
       "      <td>3.518687</td>\n",
       "      <td>7.411884</td>\n",
       "    </tr>\n",
       "    <tr>\n",
       "      <th>14</th>\n",
       "      <td>1.864681</td>\n",
       "      <td>2.735344</td>\n",
       "    </tr>\n",
       "    <tr>\n",
       "      <th>15</th>\n",
       "      <td>7.331699</td>\n",
       "      <td>7.411884</td>\n",
       "    </tr>\n",
       "    <tr>\n",
       "      <th>16</th>\n",
       "      <td>4.067873</td>\n",
       "      <td>5.073614</td>\n",
       "    </tr>\n",
       "    <tr>\n",
       "      <th>17</th>\n",
       "      <td>8.819857</td>\n",
       "      <td>2.735344</td>\n",
       "    </tr>\n",
       "    <tr>\n",
       "      <th>18</th>\n",
       "      <td>0.322477</td>\n",
       "      <td>7.411884</td>\n",
       "    </tr>\n",
       "    <tr>\n",
       "      <th>19</th>\n",
       "      <td>2.125722</td>\n",
       "      <td>7.411884</td>\n",
       "    </tr>\n",
       "    <tr>\n",
       "      <th>20</th>\n",
       "      <td>5.820140</td>\n",
       "      <td>7.411884</td>\n",
       "    </tr>\n",
       "    <tr>\n",
       "      <th>21</th>\n",
       "      <td>5.716645</td>\n",
       "      <td>2.735344</td>\n",
       "    </tr>\n",
       "    <tr>\n",
       "      <th>22</th>\n",
       "      <td>4.402231</td>\n",
       "      <td>7.411884</td>\n",
       "    </tr>\n",
       "    <tr>\n",
       "      <th>23</th>\n",
       "      <td>-3.669023</td>\n",
       "      <td>5.073614</td>\n",
       "    </tr>\n",
       "    <tr>\n",
       "      <th>24</th>\n",
       "      <td>-5.541402</td>\n",
       "      <td>5.073614</td>\n",
       "    </tr>\n",
       "    <tr>\n",
       "      <th>25</th>\n",
       "      <td>4.102317</td>\n",
       "      <td>7.411884</td>\n",
       "    </tr>\n",
       "    <tr>\n",
       "      <th>26</th>\n",
       "      <td>9.616241</td>\n",
       "      <td>7.411884</td>\n",
       "    </tr>\n",
       "    <tr>\n",
       "      <th>27</th>\n",
       "      <td>7.818249</td>\n",
       "      <td>2.735344</td>\n",
       "    </tr>\n",
       "    <tr>\n",
       "      <th>28</th>\n",
       "      <td>1.627319</td>\n",
       "      <td>2.735344</td>\n",
       "    </tr>\n",
       "    <tr>\n",
       "      <th>29</th>\n",
       "      <td>4.238979</td>\n",
       "      <td>2.735344</td>\n",
       "    </tr>\n",
       "  </tbody>\n",
       "</table>\n",
       "</div>"
      ],
      "text/plain": [
       "       Actual  Predicted\n",
       "0    2.780845   5.073614\n",
       "1   13.754230   5.073614\n",
       "2    3.326892   7.411884\n",
       "3    2.105711   7.411884\n",
       "4    1.652817   5.073614\n",
       "5   -1.514121   7.411884\n",
       "6    6.271613   2.735344\n",
       "7    4.110140   0.397074\n",
       "8   10.563359   7.411884\n",
       "9   12.196721   7.411884\n",
       "10  -0.137868   2.735344\n",
       "11   9.418279   5.073614\n",
       "12  10.819733   2.735344\n",
       "13   3.518687   7.411884\n",
       "14   1.864681   2.735344\n",
       "15   7.331699   7.411884\n",
       "16   4.067873   5.073614\n",
       "17   8.819857   2.735344\n",
       "18   0.322477   7.411884\n",
       "19   2.125722   7.411884\n",
       "20   5.820140   7.411884\n",
       "21   5.716645   2.735344\n",
       "22   4.402231   7.411884\n",
       "23  -3.669023   5.073614\n",
       "24  -5.541402   5.073614\n",
       "25   4.102317   7.411884\n",
       "26   9.616241   7.411884\n",
       "27   7.818249   2.735344\n",
       "28   1.627319   2.735344\n",
       "29   4.238979   2.735344"
      ]
     },
     "execution_count": 57,
     "metadata": {},
     "output_type": "execute_result"
    }
   ],
   "source": [
    "# Compare the Predicted and Actual Outcomes\n",
    "data = pd.DataFrame({'Actual': y_test.flatten(), 'Predicted': y_predicted.flatten()})\n",
    "data.head(30)"
   ]
  },
  {
   "cell_type": "code",
   "execution_count": 58,
   "id": "059e27e3",
   "metadata": {},
   "outputs": [],
   "source": [
    "# The model performed terribly on the 30-set practice, with only one of the predicted 30 values falling close, within around 0.08 and only 2 were closer than 1 point."
   ]
  }
 ],
 "metadata": {
  "kernelspec": {
   "display_name": "Python 3 (ipykernel)",
   "language": "python",
   "name": "python3"
  },
  "language_info": {
   "codemirror_mode": {
    "name": "ipython",
    "version": 3
   },
   "file_extension": ".py",
   "mimetype": "text/x-python",
   "name": "python",
   "nbconvert_exporter": "python",
   "pygments_lexer": "ipython3",
   "version": "3.9.7"
  }
 },
 "nbformat": 4,
 "nbformat_minor": 5
}
